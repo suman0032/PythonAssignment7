{
 "cells": [
  {
   "cell_type": "code",
   "execution_count": 18,
   "metadata": {},
   "outputs": [
    {
     "name": "stdout",
     "output_type": "stream",
     "text": [
      "Enter window size (k>0)3\n",
      "Enter array :3, 5, 7, 2, 8, 10, 11, 65, 72, 81, 99, 100, 150\n",
      "Please sepecify delimiter :, \n",
      "Value of Moving Average ::\n",
      "[  5.           4.66666667   5.66666667   6.66666667   9.66666667\n",
      "  28.66666667  49.33333333  72.66666667  84.          93.33333333\n",
      " 116.33333333]\n"
     ]
    }
   ],
   "source": [
    "import numpy as np\n",
    "\n",
    "#function definition of 'movingaverage'\n",
    "def movingaverage(arr,k):\n",
    "    #print(arr)\n",
    "    n,l,i=len(arr),[],0\n",
    "    v=n-k+1\n",
    "    while i<v:\n",
    "        s=np.average(arr[i:i+k])\n",
    "        l.append(s)\n",
    "        i=i+1\n",
    "    return np.array(l)\n",
    "\n",
    "\n",
    "\n",
    "\n",
    "k=int(input(\"Enter window size (k>0)\"))\n",
    "arr=np.arange(1,11)\n",
    "\n",
    "# Below block of code is used to accept array element one by one\n",
    "#n=int(input(\"Enter length of array (n>k)\"))\n",
    "#arr,l=[],0\n",
    "#while l<n:\n",
    "#    arr.append(input(\"Enter the value:\"))\n",
    "#    l=l+1\n",
    "#arr=np.array(arr,dtype='float')\n",
    "\n",
    "\n",
    "#Below block is used to accept entire array as string\n",
    "arr=input(\"Enter array :\")\n",
    "d=input('Please specify delimiter :') #for this case enter comma and space as \", \"\n",
    "arr=np.array(arr.split(d),dtype='float')\n",
    "\n",
    "print(\"Value of Moving Average ::\")\n",
    "print(movingaverage(arr,k))\n",
    "        \n",
    "    "
   ]
  }
 ],
 "metadata": {
  "kernelspec": {
   "display_name": "Python 3",
   "language": "python",
   "name": "python3"
  },
  "language_info": {
   "codemirror_mode": {
    "name": "ipython",
    "version": 3
   },
   "file_extension": ".py",
   "mimetype": "text/x-python",
   "name": "python",
   "nbconvert_exporter": "python",
   "pygments_lexer": "ipython3",
   "version": "3.6.5"
  }
 },
 "nbformat": 4,
 "nbformat_minor": 2
}
